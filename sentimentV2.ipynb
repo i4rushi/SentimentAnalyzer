{
  "nbformat": 4,
  "nbformat_minor": 0,
  "metadata": {
    "colab": {
      "provenance": [],
      "gpuType": "T4"
    },
    "kernelspec": {
      "name": "python3",
      "display_name": "Python 3"
    },
    "language_info": {
      "name": "python"
    },
    "accelerator": "GPU"
  },
  "cells": [
    {
      "cell_type": "code",
      "source": [
        "# ======================================\n",
        "# SENTIMENT ANALYSIS WITH NEURAL NETWORKS\n",
        "# ======================================\n",
        "# This program builds a neural network to classify text comments into 3 sentiment categories:\n",
        "# 0 = Negative sentiment\n",
        "# 1 = Neutral sentiment\n",
        "# 2 = Positive sentiment"
      ],
      "metadata": {
        "id": "4lRUIChlFUaA"
      },
      "execution_count": 1,
      "outputs": []
    },
    {
      "cell_type": "code",
      "execution_count": 2,
      "metadata": {
        "id": "oiY7zn399mss"
      },
      "outputs": [],
      "source": [
        "import json\n",
        "import tensorflow as tf #building and training the NN\n",
        "\n",
        "from tensorflow.keras.preprocessing.text import Tokenizer #text to numbers\n",
        "from tensorflow.keras.preprocessing.sequence import pad_sequences #pad sequences to same length\n",
        "from sklearn.model_selection import train_test_split #split training and testing data\n",
        "\n",
        "import pandas as pd\n"
      ]
    },
    {
      "cell_type": "code",
      "source": [
        "vocab_size = 10000 #max number of unique words\n",
        "embedding_dim = 16 #how many numbers rep each word\n",
        "max_length = 100\n",
        "trunc_type='post'\n",
        "padding_type='post'\n",
        "oov_tok = \"<OOV>\" #out of vocab words token\n",
        "test_size = 0.2  # 20% for testing, 80% for training\n",
        "\n",
        "from google.colab import files\n",
        "uploaded = files.upload()\n",
        "\n",
        "df = pd.read_csv(\"sentiment.csv\")"
      ],
      "metadata": {
        "colab": {
          "base_uri": "https://localhost:8080/",
          "height": 74
        },
        "id": "3VqD2k2Y9t7F",
        "outputId": "6e6c72c9-1df2-4087-b783-b41aaca7b6fb"
      },
      "execution_count": 3,
      "outputs": [
        {
          "output_type": "display_data",
          "data": {
            "text/plain": [
              "<IPython.core.display.HTML object>"
            ],
            "text/html": [
              "\n",
              "     <input type=\"file\" id=\"files-c71d0fca-0f10-44e1-9a78-cc54f777022b\" name=\"files[]\" multiple disabled\n",
              "        style=\"border:none\" />\n",
              "     <output id=\"result-c71d0fca-0f10-44e1-9a78-cc54f777022b\">\n",
              "      Upload widget is only available when the cell has been executed in the\n",
              "      current browser session. Please rerun this cell to enable.\n",
              "      </output>\n",
              "      <script>// Copyright 2017 Google LLC\n",
              "//\n",
              "// Licensed under the Apache License, Version 2.0 (the \"License\");\n",
              "// you may not use this file except in compliance with the License.\n",
              "// You may obtain a copy of the License at\n",
              "//\n",
              "//      http://www.apache.org/licenses/LICENSE-2.0\n",
              "//\n",
              "// Unless required by applicable law or agreed to in writing, software\n",
              "// distributed under the License is distributed on an \"AS IS\" BASIS,\n",
              "// WITHOUT WARRANTIES OR CONDITIONS OF ANY KIND, either express or implied.\n",
              "// See the License for the specific language governing permissions and\n",
              "// limitations under the License.\n",
              "\n",
              "/**\n",
              " * @fileoverview Helpers for google.colab Python module.\n",
              " */\n",
              "(function(scope) {\n",
              "function span(text, styleAttributes = {}) {\n",
              "  const element = document.createElement('span');\n",
              "  element.textContent = text;\n",
              "  for (const key of Object.keys(styleAttributes)) {\n",
              "    element.style[key] = styleAttributes[key];\n",
              "  }\n",
              "  return element;\n",
              "}\n",
              "\n",
              "// Max number of bytes which will be uploaded at a time.\n",
              "const MAX_PAYLOAD_SIZE = 100 * 1024;\n",
              "\n",
              "function _uploadFiles(inputId, outputId) {\n",
              "  const steps = uploadFilesStep(inputId, outputId);\n",
              "  const outputElement = document.getElementById(outputId);\n",
              "  // Cache steps on the outputElement to make it available for the next call\n",
              "  // to uploadFilesContinue from Python.\n",
              "  outputElement.steps = steps;\n",
              "\n",
              "  return _uploadFilesContinue(outputId);\n",
              "}\n",
              "\n",
              "// This is roughly an async generator (not supported in the browser yet),\n",
              "// where there are multiple asynchronous steps and the Python side is going\n",
              "// to poll for completion of each step.\n",
              "// This uses a Promise to block the python side on completion of each step,\n",
              "// then passes the result of the previous step as the input to the next step.\n",
              "function _uploadFilesContinue(outputId) {\n",
              "  const outputElement = document.getElementById(outputId);\n",
              "  const steps = outputElement.steps;\n",
              "\n",
              "  const next = steps.next(outputElement.lastPromiseValue);\n",
              "  return Promise.resolve(next.value.promise).then((value) => {\n",
              "    // Cache the last promise value to make it available to the next\n",
              "    // step of the generator.\n",
              "    outputElement.lastPromiseValue = value;\n",
              "    return next.value.response;\n",
              "  });\n",
              "}\n",
              "\n",
              "/**\n",
              " * Generator function which is called between each async step of the upload\n",
              " * process.\n",
              " * @param {string} inputId Element ID of the input file picker element.\n",
              " * @param {string} outputId Element ID of the output display.\n",
              " * @return {!Iterable<!Object>} Iterable of next steps.\n",
              " */\n",
              "function* uploadFilesStep(inputId, outputId) {\n",
              "  const inputElement = document.getElementById(inputId);\n",
              "  inputElement.disabled = false;\n",
              "\n",
              "  const outputElement = document.getElementById(outputId);\n",
              "  outputElement.innerHTML = '';\n",
              "\n",
              "  const pickedPromise = new Promise((resolve) => {\n",
              "    inputElement.addEventListener('change', (e) => {\n",
              "      resolve(e.target.files);\n",
              "    });\n",
              "  });\n",
              "\n",
              "  const cancel = document.createElement('button');\n",
              "  inputElement.parentElement.appendChild(cancel);\n",
              "  cancel.textContent = 'Cancel upload';\n",
              "  const cancelPromise = new Promise((resolve) => {\n",
              "    cancel.onclick = () => {\n",
              "      resolve(null);\n",
              "    };\n",
              "  });\n",
              "\n",
              "  // Wait for the user to pick the files.\n",
              "  const files = yield {\n",
              "    promise: Promise.race([pickedPromise, cancelPromise]),\n",
              "    response: {\n",
              "      action: 'starting',\n",
              "    }\n",
              "  };\n",
              "\n",
              "  cancel.remove();\n",
              "\n",
              "  // Disable the input element since further picks are not allowed.\n",
              "  inputElement.disabled = true;\n",
              "\n",
              "  if (!files) {\n",
              "    return {\n",
              "      response: {\n",
              "        action: 'complete',\n",
              "      }\n",
              "    };\n",
              "  }\n",
              "\n",
              "  for (const file of files) {\n",
              "    const li = document.createElement('li');\n",
              "    li.append(span(file.name, {fontWeight: 'bold'}));\n",
              "    li.append(span(\n",
              "        `(${file.type || 'n/a'}) - ${file.size} bytes, ` +\n",
              "        `last modified: ${\n",
              "            file.lastModifiedDate ? file.lastModifiedDate.toLocaleDateString() :\n",
              "                                    'n/a'} - `));\n",
              "    const percent = span('0% done');\n",
              "    li.appendChild(percent);\n",
              "\n",
              "    outputElement.appendChild(li);\n",
              "\n",
              "    const fileDataPromise = new Promise((resolve) => {\n",
              "      const reader = new FileReader();\n",
              "      reader.onload = (e) => {\n",
              "        resolve(e.target.result);\n",
              "      };\n",
              "      reader.readAsArrayBuffer(file);\n",
              "    });\n",
              "    // Wait for the data to be ready.\n",
              "    let fileData = yield {\n",
              "      promise: fileDataPromise,\n",
              "      response: {\n",
              "        action: 'continue',\n",
              "      }\n",
              "    };\n",
              "\n",
              "    // Use a chunked sending to avoid message size limits. See b/62115660.\n",
              "    let position = 0;\n",
              "    do {\n",
              "      const length = Math.min(fileData.byteLength - position, MAX_PAYLOAD_SIZE);\n",
              "      const chunk = new Uint8Array(fileData, position, length);\n",
              "      position += length;\n",
              "\n",
              "      const base64 = btoa(String.fromCharCode.apply(null, chunk));\n",
              "      yield {\n",
              "        response: {\n",
              "          action: 'append',\n",
              "          file: file.name,\n",
              "          data: base64,\n",
              "        },\n",
              "      };\n",
              "\n",
              "      let percentDone = fileData.byteLength === 0 ?\n",
              "          100 :\n",
              "          Math.round((position / fileData.byteLength) * 100);\n",
              "      percent.textContent = `${percentDone}% done`;\n",
              "\n",
              "    } while (position < fileData.byteLength);\n",
              "  }\n",
              "\n",
              "  // All done.\n",
              "  yield {\n",
              "    response: {\n",
              "      action: 'complete',\n",
              "    }\n",
              "  };\n",
              "}\n",
              "\n",
              "scope.google = scope.google || {};\n",
              "scope.google.colab = scope.google.colab || {};\n",
              "scope.google.colab._files = {\n",
              "  _uploadFiles,\n",
              "  _uploadFilesContinue,\n",
              "};\n",
              "})(self);\n",
              "</script> "
            ]
          },
          "metadata": {}
        },
        {
          "output_type": "stream",
          "name": "stdout",
          "text": [
            "Saving sentiment.csv to sentiment.csv\n"
          ]
        }
      ]
    },
    {
      "cell_type": "code",
      "source": [
        "# Handle missing data\n",
        "print(f\"Missing comments before cleaning: {df['Comment'].isnull().sum()}\")\n",
        "df = df.dropna(subset=['Comment'])  # Remove rows with missing comments\n",
        "print(f\"Dataset shape after removing missing comments: {df.shape}\")\n"
      ],
      "metadata": {
        "colab": {
          "base_uri": "https://localhost:8080/"
        },
        "id": "IJnq4bP_9xAY",
        "outputId": "ae3e11f5-c119-42af-c864-d30f19a4ea98"
      },
      "execution_count": 4,
      "outputs": [
        {
          "output_type": "stream",
          "name": "stdout",
          "text": [
            "Missing comments before cleaning: 217\n",
            "Dataset shape after removing missing comments: (240928, 3)\n"
          ]
        }
      ]
    },
    {
      "cell_type": "code",
      "source": [
        "# Check sentiment distribution\n",
        "print(\"Sentiment distribution:\")\n",
        "print(df['Sentiment'].value_counts().sort_index())"
      ],
      "metadata": {
        "colab": {
          "base_uri": "https://localhost:8080/"
        },
        "id": "VEwn1Ycv90p3",
        "outputId": "b175ed68-88fe-412b-be2c-62ca2fc4bd0e"
      },
      "execution_count": 5,
      "outputs": [
        {
          "output_type": "stream",
          "name": "stdout",
          "text": [
            "Sentiment distribution:\n",
            "Sentiment\n",
            "0     55105\n",
            "1     82777\n",
            "2    103046\n",
            "Name: count, dtype: int64\n"
          ]
        }
      ]
    },
    {
      "cell_type": "code",
      "source": [
        "# Basic text preprocessing\n",
        "df['Comment'] = df['Comment'].astype(str)  # Ensure all comments are strings\n",
        "df['Comment'] = df['Comment'].str.lower()  # Convert to lowercase for consistency"
      ],
      "metadata": {
        "id": "4WWsUr--92zh"
      },
      "execution_count": 6,
      "outputs": []
    },
    {
      "cell_type": "code",
      "source": [
        "#convert columns to python lists\n",
        "comment = df['Comment'].tolist()\n",
        "sentiment = df['Sentiment'].tolist()"
      ],
      "metadata": {
        "id": "4S3TD00F95LC"
      },
      "execution_count": 7,
      "outputs": []
    },
    {
      "cell_type": "code",
      "source": [
        "# Properly split the data with randomization and stratification\n",
        "training_comment, testing_comment, training_sentiment, testing_sentiment = train_test_split(\n",
        "    comment,\n",
        "    sentiment,\n",
        "    test_size=test_size,\n",
        "    random_state=42,  # for reproducibility\n",
        "    stratify=sentiment  # maintains the same proportion of each class in both sets\n",
        ")\n",
        "\n",
        "print(f\"Training samples: {len(training_comment)}\")\n",
        "print(f\"Testing samples: {len(testing_comment)}\")\n",
        "print()"
      ],
      "metadata": {
        "colab": {
          "base_uri": "https://localhost:8080/"
        },
        "id": "TPsuPCde97Bu",
        "outputId": "5057f7b0-8259-4d45-c2f6-70f60f29d8de"
      },
      "execution_count": 8,
      "outputs": [
        {
          "output_type": "stream",
          "name": "stdout",
          "text": [
            "Training samples: 192742\n",
            "Testing samples: 48186\n",
            "\n"
          ]
        }
      ]
    },
    {
      "cell_type": "code",
      "source": [
        "#Tokenization - converting text to numbers\n",
        "\n",
        "tokenizer = Tokenizer(num_words=vocab_size, oov_token=oov_tok)\n",
        "tokenizer.fit_on_texts(training_comment) #learn vocab from training data\n",
        "word_index = tokenizer.word_index\n",
        "\n",
        "print(f\"Total unique words found: {len(word_index)}\")\n",
        "print(f\"Using top {vocab_size} most common words\")\n",
        "print(f\"Example word mappings: {dict(list(word_index.items())[:5])}\")\n",
        "print()\n",
        "\n",
        "#text to seq of numbers\n",
        "training_sequences = tokenizer.texts_to_sequences(training_comment)\n",
        "training_padded = pad_sequences(training_sequences, maxlen=max_length, padding=padding_type, truncating=trunc_type)\n",
        "\n",
        "testing_sequences = tokenizer.texts_to_sequences(testing_comment)\n",
        "testing_padded = pad_sequences(testing_sequences, maxlen=max_length, padding=padding_type, truncating=trunc_type)\n",
        "\n",
        "print(f\"Example: Original text: '{training_comment[0][:50]}...'\")\n",
        "print(f\"         As numbers: {training_sequences[0][:10]}...\")\n",
        "print(f\"         After padding: Shape {training_padded[0].shape}\")\n",
        "print()"
      ],
      "metadata": {
        "colab": {
          "base_uri": "https://localhost:8080/"
        },
        "id": "dHKg11AT99cK",
        "outputId": "938f7e2c-aa44-4980-ab19-0d54c047550a"
      },
      "execution_count": 9,
      "outputs": [
        {
          "output_type": "stream",
          "name": "stdout",
          "text": [
            "Total unique words found: 138622\n",
            "Using top 10000 most common words\n",
            "Example word mappings: {'<OOV>': 1, 'modi': 2, 'india': 3, 'like': 4, 'people': 5}\n",
            "\n",
            "Example: Original text: 'empty chairs meerut modi rally...'\n",
            "         As numbers: [1532, 3805, 799, 2, 329]...\n",
            "         After padding: Shape (100,)\n",
            "\n"
          ]
        }
      ]
    },
    {
      "cell_type": "code",
      "source": [
        "# convert to numpy arrays for TensorFlow\n",
        "import numpy as np\n",
        "training_padded = np.array(training_padded)\n",
        "training_labels = np.array(training_sentiment)\n",
        "testing_padded = np.array(testing_padded)\n",
        "testing_labels = np.array(testing_sentiment)\n"
      ],
      "metadata": {
        "id": "qM3AuYpd-CG2"
      },
      "execution_count": 10,
      "outputs": []
    },
    {
      "cell_type": "markdown",
      "source": [
        "Building the neural network...\n",
        "Architecture:\n",
        "1. Embedding Layer: Converts word numbers to dense vectors\n",
        "2. Global Average Pooling: Averages all word vectors into one vector\n",
        "3. Dense Layer (24 neurons): Learns patterns with ReLU activation\n",
        "4. Output Layer (3 neurons): Predicts probabilities for each sentiment class"
      ],
      "metadata": {
        "id": "jgOzganEIl5r"
      }
    },
    {
      "cell_type": "code",
      "source": [
        "\n",
        "model = tf.keras.Sequential([\n",
        "    tf.keras.layers.Embedding(vocab_size, embedding_dim, input_length=max_length),\n",
        "    tf.keras.layers.GlobalAveragePooling1D(),\n",
        "\n",
        "    # Dropout layer: randomly sets 30% of inputs to 0 during training to prevent overfitting\n",
        "    tf.keras.layers.Dropout(0.3),\n",
        "\n",
        "    tf.keras.layers.Dense(24, activation='relu'),\n",
        "\n",
        "    # Another dropout layer: helps prevent overfitting in the dense layer\n",
        "    tf.keras.layers.Dropout(0.5),\n",
        "\n",
        "    tf.keras.layers.Dense(3, activation='softmax')  # 3 classes (0, 1, 2)\n",
        "])\n",
        "model.compile(loss='sparse_categorical_crossentropy', #multi class classification\n",
        "              optimizer='adam', #efficient optimization algo\n",
        "              metrics=['accuracy']) #track accuracy during training\n",
        "\n",
        "# Build the model with the correct input shape to show proper summary\n",
        "model.build(input_shape=(None, max_length))\n",
        "model.summary()\n",
        "\n",
        "# Early stopping: stops training when validation accuracy stops improving\n",
        "early_stopping = tf.keras.callbacks.EarlyStopping(\n",
        "    monitor='val_accuracy',    # Watch validation accuracy\n",
        "    patience=5,                # Stop if no improvement for 5 epochs\n",
        "    restore_best_weights=True, # Go back to best weights\n",
        "    verbose=1                  # Print when stopping\n",
        ")\n",
        "\n",
        "num_epochs = 50  # Set higher since early stopping will prevent overfitting\n",
        "\n",
        "history = model.fit(training_padded, training_labels, epochs=num_epochs, validation_data=(testing_padded, testing_labels), callbacks=[early_stopping], verbose=2)\n",
        "\n"
      ],
      "metadata": {
        "colab": {
          "base_uri": "https://localhost:8080/",
          "height": 882
        },
        "id": "DQM5VkBS-FEt",
        "outputId": "89b18611-77f1-4cd1-e604-33f1d5477009"
      },
      "execution_count": 33,
      "outputs": [
        {
          "output_type": "display_data",
          "data": {
            "text/plain": [
              "\u001b[1mModel: \"sequential_1\"\u001b[0m\n"
            ],
            "text/html": [
              "<pre style=\"white-space:pre;overflow-x:auto;line-height:normal;font-family:Menlo,'DejaVu Sans Mono',consolas,'Courier New',monospace\"><span style=\"font-weight: bold\">Model: \"sequential_1\"</span>\n",
              "</pre>\n"
            ]
          },
          "metadata": {}
        },
        {
          "output_type": "display_data",
          "data": {
            "text/plain": [
              "┏━━━━━━━━━━━━━━━━━━━━━━━━━━━━━━━━━┳━━━━━━━━━━━━━━━━━━━━━━━━┳━━━━━━━━━━━━━━━┓\n",
              "┃\u001b[1m \u001b[0m\u001b[1mLayer (type)                   \u001b[0m\u001b[1m \u001b[0m┃\u001b[1m \u001b[0m\u001b[1mOutput Shape          \u001b[0m\u001b[1m \u001b[0m┃\u001b[1m \u001b[0m\u001b[1m      Param #\u001b[0m\u001b[1m \u001b[0m┃\n",
              "┡━━━━━━━━━━━━━━━━━━━━━━━━━━━━━━━━━╇━━━━━━━━━━━━━━━━━━━━━━━━╇━━━━━━━━━━━━━━━┩\n",
              "│ embedding_1 (\u001b[38;5;33mEmbedding\u001b[0m)         │ (\u001b[38;5;45mNone\u001b[0m, \u001b[38;5;34m100\u001b[0m, \u001b[38;5;34m16\u001b[0m)        │       \u001b[38;5;34m160,000\u001b[0m │\n",
              "├─────────────────────────────────┼────────────────────────┼───────────────┤\n",
              "│ global_average_pooling1d_1      │ (\u001b[38;5;45mNone\u001b[0m, \u001b[38;5;34m16\u001b[0m)             │             \u001b[38;5;34m0\u001b[0m │\n",
              "│ (\u001b[38;5;33mGlobalAveragePooling1D\u001b[0m)        │                        │               │\n",
              "├─────────────────────────────────┼────────────────────────┼───────────────┤\n",
              "│ dropout (\u001b[38;5;33mDropout\u001b[0m)               │ (\u001b[38;5;45mNone\u001b[0m, \u001b[38;5;34m16\u001b[0m)             │             \u001b[38;5;34m0\u001b[0m │\n",
              "├─────────────────────────────────┼────────────────────────┼───────────────┤\n",
              "│ dense_2 (\u001b[38;5;33mDense\u001b[0m)                 │ (\u001b[38;5;45mNone\u001b[0m, \u001b[38;5;34m24\u001b[0m)             │           \u001b[38;5;34m408\u001b[0m │\n",
              "├─────────────────────────────────┼────────────────────────┼───────────────┤\n",
              "│ dropout_1 (\u001b[38;5;33mDropout\u001b[0m)             │ (\u001b[38;5;45mNone\u001b[0m, \u001b[38;5;34m24\u001b[0m)             │             \u001b[38;5;34m0\u001b[0m │\n",
              "├─────────────────────────────────┼────────────────────────┼───────────────┤\n",
              "│ dense_3 (\u001b[38;5;33mDense\u001b[0m)                 │ (\u001b[38;5;45mNone\u001b[0m, \u001b[38;5;34m3\u001b[0m)              │            \u001b[38;5;34m75\u001b[0m │\n",
              "└─────────────────────────────────┴────────────────────────┴───────────────┘\n"
            ],
            "text/html": [
              "<pre style=\"white-space:pre;overflow-x:auto;line-height:normal;font-family:Menlo,'DejaVu Sans Mono',consolas,'Courier New',monospace\">┏━━━━━━━━━━━━━━━━━━━━━━━━━━━━━━━━━┳━━━━━━━━━━━━━━━━━━━━━━━━┳━━━━━━━━━━━━━━━┓\n",
              "┃<span style=\"font-weight: bold\"> Layer (type)                    </span>┃<span style=\"font-weight: bold\"> Output Shape           </span>┃<span style=\"font-weight: bold\">       Param # </span>┃\n",
              "┡━━━━━━━━━━━━━━━━━━━━━━━━━━━━━━━━━╇━━━━━━━━━━━━━━━━━━━━━━━━╇━━━━━━━━━━━━━━━┩\n",
              "│ embedding_1 (<span style=\"color: #0087ff; text-decoration-color: #0087ff\">Embedding</span>)         │ (<span style=\"color: #00d7ff; text-decoration-color: #00d7ff\">None</span>, <span style=\"color: #00af00; text-decoration-color: #00af00\">100</span>, <span style=\"color: #00af00; text-decoration-color: #00af00\">16</span>)        │       <span style=\"color: #00af00; text-decoration-color: #00af00\">160,000</span> │\n",
              "├─────────────────────────────────┼────────────────────────┼───────────────┤\n",
              "│ global_average_pooling1d_1      │ (<span style=\"color: #00d7ff; text-decoration-color: #00d7ff\">None</span>, <span style=\"color: #00af00; text-decoration-color: #00af00\">16</span>)             │             <span style=\"color: #00af00; text-decoration-color: #00af00\">0</span> │\n",
              "│ (<span style=\"color: #0087ff; text-decoration-color: #0087ff\">GlobalAveragePooling1D</span>)        │                        │               │\n",
              "├─────────────────────────────────┼────────────────────────┼───────────────┤\n",
              "│ dropout (<span style=\"color: #0087ff; text-decoration-color: #0087ff\">Dropout</span>)               │ (<span style=\"color: #00d7ff; text-decoration-color: #00d7ff\">None</span>, <span style=\"color: #00af00; text-decoration-color: #00af00\">16</span>)             │             <span style=\"color: #00af00; text-decoration-color: #00af00\">0</span> │\n",
              "├─────────────────────────────────┼────────────────────────┼───────────────┤\n",
              "│ dense_2 (<span style=\"color: #0087ff; text-decoration-color: #0087ff\">Dense</span>)                 │ (<span style=\"color: #00d7ff; text-decoration-color: #00d7ff\">None</span>, <span style=\"color: #00af00; text-decoration-color: #00af00\">24</span>)             │           <span style=\"color: #00af00; text-decoration-color: #00af00\">408</span> │\n",
              "├─────────────────────────────────┼────────────────────────┼───────────────┤\n",
              "│ dropout_1 (<span style=\"color: #0087ff; text-decoration-color: #0087ff\">Dropout</span>)             │ (<span style=\"color: #00d7ff; text-decoration-color: #00d7ff\">None</span>, <span style=\"color: #00af00; text-decoration-color: #00af00\">24</span>)             │             <span style=\"color: #00af00; text-decoration-color: #00af00\">0</span> │\n",
              "├─────────────────────────────────┼────────────────────────┼───────────────┤\n",
              "│ dense_3 (<span style=\"color: #0087ff; text-decoration-color: #0087ff\">Dense</span>)                 │ (<span style=\"color: #00d7ff; text-decoration-color: #00d7ff\">None</span>, <span style=\"color: #00af00; text-decoration-color: #00af00\">3</span>)              │            <span style=\"color: #00af00; text-decoration-color: #00af00\">75</span> │\n",
              "└─────────────────────────────────┴────────────────────────┴───────────────┘\n",
              "</pre>\n"
            ]
          },
          "metadata": {}
        },
        {
          "output_type": "display_data",
          "data": {
            "text/plain": [
              "\u001b[1m Total params: \u001b[0m\u001b[38;5;34m160,483\u001b[0m (626.89 KB)\n"
            ],
            "text/html": [
              "<pre style=\"white-space:pre;overflow-x:auto;line-height:normal;font-family:Menlo,'DejaVu Sans Mono',consolas,'Courier New',monospace\"><span style=\"font-weight: bold\"> Total params: </span><span style=\"color: #00af00; text-decoration-color: #00af00\">160,483</span> (626.89 KB)\n",
              "</pre>\n"
            ]
          },
          "metadata": {}
        },
        {
          "output_type": "display_data",
          "data": {
            "text/plain": [
              "\u001b[1m Trainable params: \u001b[0m\u001b[38;5;34m160,483\u001b[0m (626.89 KB)\n"
            ],
            "text/html": [
              "<pre style=\"white-space:pre;overflow-x:auto;line-height:normal;font-family:Menlo,'DejaVu Sans Mono',consolas,'Courier New',monospace\"><span style=\"font-weight: bold\"> Trainable params: </span><span style=\"color: #00af00; text-decoration-color: #00af00\">160,483</span> (626.89 KB)\n",
              "</pre>\n"
            ]
          },
          "metadata": {}
        },
        {
          "output_type": "display_data",
          "data": {
            "text/plain": [
              "\u001b[1m Non-trainable params: \u001b[0m\u001b[38;5;34m0\u001b[0m (0.00 B)\n"
            ],
            "text/html": [
              "<pre style=\"white-space:pre;overflow-x:auto;line-height:normal;font-family:Menlo,'DejaVu Sans Mono',consolas,'Courier New',monospace\"><span style=\"font-weight: bold\"> Non-trainable params: </span><span style=\"color: #00af00; text-decoration-color: #00af00\">0</span> (0.00 B)\n",
              "</pre>\n"
            ]
          },
          "metadata": {}
        },
        {
          "output_type": "stream",
          "name": "stdout",
          "text": [
            "Epoch 1/50\n",
            "6024/6024 - 21s - 4ms/step - accuracy: 0.5309 - loss: 0.9589 - val_accuracy: 0.6941 - val_loss: 0.7334\n",
            "Epoch 2/50\n",
            "6024/6024 - 17s - 3ms/step - accuracy: 0.7164 - loss: 0.7216 - val_accuracy: 0.7752 - val_loss: 0.6091\n",
            "Epoch 3/50\n",
            "6024/6024 - 16s - 3ms/step - accuracy: 0.7540 - loss: 0.6565 - val_accuracy: 0.7480 - val_loss: 0.6634\n",
            "Epoch 4/50\n",
            "6024/6024 - 18s - 3ms/step - accuracy: 0.7662 - loss: 0.6249 - val_accuracy: 0.8073 - val_loss: 0.5324\n",
            "Epoch 5/50\n",
            "6024/6024 - 18s - 3ms/step - accuracy: 0.7760 - loss: 0.6057 - val_accuracy: 0.7742 - val_loss: 0.5968\n",
            "Epoch 6/50\n",
            "6024/6024 - 23s - 4ms/step - accuracy: 0.7827 - loss: 0.5871 - val_accuracy: 0.7404 - val_loss: 0.6308\n",
            "Epoch 7/50\n",
            "6024/6024 - 21s - 3ms/step - accuracy: 0.7860 - loss: 0.5800 - val_accuracy: 0.8032 - val_loss: 0.5248\n",
            "Epoch 8/50\n",
            "6024/6024 - 16s - 3ms/step - accuracy: 0.7916 - loss: 0.5682 - val_accuracy: 0.8065 - val_loss: 0.5462\n",
            "Epoch 9/50\n",
            "6024/6024 - 15s - 3ms/step - accuracy: 0.7922 - loss: 0.5650 - val_accuracy: 0.8102 - val_loss: 0.5131\n",
            "Epoch 10/50\n",
            "6024/6024 - 23s - 4ms/step - accuracy: 0.7955 - loss: 0.5572 - val_accuracy: 0.7979 - val_loss: 0.5391\n",
            "Epoch 11/50\n",
            "6024/6024 - 21s - 3ms/step - accuracy: 0.7964 - loss: 0.5544 - val_accuracy: 0.7805 - val_loss: 0.5824\n",
            "Epoch 12/50\n",
            "6024/6024 - 16s - 3ms/step - accuracy: 0.7965 - loss: 0.5510 - val_accuracy: 0.8093 - val_loss: 0.5250\n",
            "Epoch 13/50\n",
            "6024/6024 - 16s - 3ms/step - accuracy: 0.7980 - loss: 0.5462 - val_accuracy: 0.7776 - val_loss: 0.5678\n",
            "Epoch 14/50\n",
            "6024/6024 - 20s - 3ms/step - accuracy: 0.7995 - loss: 0.5433 - val_accuracy: 0.7982 - val_loss: 0.5413\n",
            "Epoch 14: early stopping\n",
            "Restoring model weights from the end of the best epoch: 9.\n"
          ]
        }
      ]
    },
    {
      "cell_type": "markdown",
      "source": [
        "1. ACCURACY\n",
        "- What it is: Percentage of predictions that are correct\n",
        "- Range: 0.0 to 1.0 (0% to 100%)\n",
        "- Example: accuracy: 0.7208 = 72.08% correct predictions\n",
        "- Goal: Higher is better\n",
        "2. LOSS\n",
        "- What it is: How \"confident\" the model is when it's wrong\n",
        "- Range: 0.0 to infinity (lower is better)\n",
        "- Example: loss: 0.8670 = high error, loss: 0.3007 = low error\n",
        "- Goal: Should decrease over time\n",
        "3. VAL_ACCURACY (Validation Accuracy)\n",
        "- What it is: Accuracy on the testing data (unseen data)\n",
        "- Why important: This is the REAL performance measure\n",
        "- Example: val_accuracy: 0.7208 = 72.08% correct on new data\n",
        "- Goal: Should be close to training accuracy\n",
        "4. VAL_LOSS (Validation Loss)\n",
        "- What it is: Loss on the testing data (unseen data)\n",
        "- Why important: Shows if model generalizes well\n",
        "- Example: val_loss: 0.7023\n",
        "- Goal: Should be close to training loss"
      ],
      "metadata": {
        "id": "a8SZPTj1J2Bz"
      }
    },
    {
      "cell_type": "code",
      "source": [
        "print(\"\\n=== TRAINING COMPLETED ===\")\n",
        "print(f\"Final Training Accuracy: {history.history['accuracy'][-1]:.1%}\")\n",
        "print(f\"Final Validation Accuracy: {history.history['val_accuracy'][-1]:.1%}\")\n",
        "print(f\"Final Training Loss: {history.history['loss'][-1]:.4f}\")\n",
        "print(f\"Final Validation Loss: {history.history['val_loss'][-1]:.4f}\")\n",
        "\n",
        "# Check for overfitting\n",
        "train_acc = history.history['accuracy'][-1]\n",
        "val_acc = history.history['val_accuracy'][-1]\n",
        "accuracy_gap = train_acc - val_acc\n",
        "\n",
        "print(f\"\\nAccuracy Gap (Train - Val): {accuracy_gap:.1%}\")\n",
        "if accuracy_gap > 0.05:  # 5% difference\n",
        "    print(\"⚠️  Warning: Possible overfitting detected!\")\n",
        "    print(\"   The model may be memorizing training data rather than learning patterns.\")\n",
        "    print(\"   Consider: reducing epochs, adding regularization, or getting more data.\")\n",
        "elif accuracy_gap < -0.05:  # Validation much better than training\n",
        "    print(\"🤔 Unusual: Validation accuracy higher than training accuracy.\")\n",
        "    print(\"   This can happen with small datasets or strong regularization.\")\n",
        "else:\n",
        "    print(\"✅ Good: Training and validation accuracies are close!\")\n",
        "    print(\"   The model is learning well and generalizing to new data.\")\n",
        "print()"
      ],
      "metadata": {
        "colab": {
          "base_uri": "https://localhost:8080/"
        },
        "id": "61vXu7LQKTIY",
        "outputId": "26df3b1f-20fb-4669-c20a-19db9b689ac1"
      },
      "execution_count": 34,
      "outputs": [
        {
          "output_type": "stream",
          "name": "stdout",
          "text": [
            "\n",
            "=== TRAINING COMPLETED ===\n",
            "Final Training Accuracy: 80.0%\n",
            "Final Validation Accuracy: 79.8%\n",
            "Final Training Loss: 0.5433\n",
            "Final Validation Loss: 0.5413\n",
            "\n",
            "Accuracy Gap (Train - Val): 0.1%\n",
            "✅ Good: Training and validation accuracies are close!\n",
            "   The model is learning well and generalizing to new data.\n",
            "\n"
          ]
        }
      ]
    },
    {
      "cell_type": "code",
      "source": [
        "import matplotlib.pyplot as plt\n",
        "\n",
        "\n",
        "def plot_graphs(history, string):\n",
        "    \"\"\"Plot training and validation metrics over time\"\"\"\n",
        "    plt.figure(figsize=(8, 6))\n",
        "    plt.plot(history.history[string])\n",
        "    plt.plot(history.history['val_'+string])\n",
        "    plt.xlabel(\"Epochs\")\n",
        "    plt.ylabel(string.title())\n",
        "    plt.title(f'Model {string.title()} Over Time')\n",
        "    plt.legend([f'Training {string}', f'Validation {string}'])\n",
        "    plt.grid(True)\n",
        "    plt.show()\n",
        "\n",
        "print(\"Plotting accuracy - should generally increase over time\")\n",
        "plot_graphs(history, \"accuracy\")\n",
        "\n",
        "print(\"Plotting loss - should generally decrease over time\")\n",
        "plot_graphs(history, \"loss\")"
      ],
      "metadata": {
        "colab": {
          "base_uri": "https://localhost:8080/",
          "height": 1000
        },
        "id": "2nCQBuJR-Ria",
        "outputId": "32ce1e91-1066-460b-ef11-81ff5291c419"
      },
      "execution_count": 35,
      "outputs": [
        {
          "output_type": "stream",
          "name": "stdout",
          "text": [
            "Plotting accuracy - should generally increase over time\n"
          ]
        },
        {
          "output_type": "display_data",
          "data": {
            "text/plain": [
              "<Figure size 800x600 with 1 Axes>"
            ],
            "image/png": "[encoded data removed]"
          },
          "metadata": {}
        },
        {
          "output_type": "stream",
          "name": "stdout",
          "text": [
            "Plotting loss - should generally decrease over time\n"
          ]
        },
        {
          "output_type": "display_data",
          "data": {
            "text/plain": [
              "<Figure size 800x600 with 1 Axes>"
            ],
            "image/png": "[encoded data removed]"
          },
          "metadata": {}
        }
      ]
    },
    {
      "cell_type": "code",
      "source": [
        "#examine what the model learned\n",
        "\n",
        "reverse_word_index = dict([(value, key) for (key, value) in word_index.items()])\n",
        "\n",
        "def decode_sentence(text):\n",
        "    \"\"\"Convert a sequence of numbers back to words\"\"\"\n",
        "    return ' '.join([reverse_word_index.get(i, '?') for i in text])\n",
        "\n",
        "print(\"Example of how the model sees text:\")\n",
        "print(f\"Original: '{training_comment[2]}'\")\n",
        "print(f\"As model sees it: '{decode_sentence(training_padded[0])}'\")\n",
        "print(f\"True sentiment: {sentiment[2]} (0=Negative, 1=Neutral, 2=Positive)\")\n",
        "print()\n"
      ],
      "metadata": {
        "colab": {
          "base_uri": "https://localhost:8080/"
        },
        "id": "-nTD2JBx-Sn3",
        "outputId": "80a15bcd-ddf0-467a-cd1d-33be7a1b6f6c"
      },
      "execution_count": 36,
      "outputs": [
        {
          "output_type": "stream",
          "name": "stdout",
          "text": [
            "Example of how the model sees text:\n",
            "Original: 'thanks friends went watched movies ate chocolate chip pancakes one friends house fabulous'\n",
            "As model sees it: 'empty chairs meerut modi rally ? ? ? ? ? ? ? ? ? ? ? ? ? ? ? ? ? ? ? ? ? ? ? ? ? ? ? ? ? ? ? ? ? ? ? ? ? ? ? ? ? ? ? ? ? ? ? ? ? ? ? ? ? ? ? ? ? ? ? ? ? ? ? ? ? ? ? ? ? ? ? ? ? ? ? ? ? ? ? ? ? ? ? ? ? ? ? ? ? ? ? ? ? ? ?'\n",
            "True sentiment: 2 (0=Negative, 1=Neutral, 2=Positive)\n",
            "\n"
          ]
        }
      ]
    },
    {
      "cell_type": "code",
      "source": [
        "# Get the embedding weights (how the model represents each word as numbers)\n",
        "e = model.layers[0]  # First layer is the embedding layer\n",
        "weights = e.get_weights()[0]\n",
        "print(weights.shape) # shape: (vocab_size, embedding_dim)\n",
        "\n",
        "import io\n",
        "\n",
        "out_v = io.open('vecs.tsv', 'w', encoding='utf-8') #vector file\n",
        "out_m = io.open('meta.tsv', 'w', encoding='utf-8') #metadata file\n",
        "\n",
        "for word_num in range(1, vocab_size):\n",
        "    try:\n",
        "        word = reverse_word_index[word_num]\n",
        "        embeddings = weights[word_num]\n",
        "        out_m.write(word + \"\\n\")\n",
        "        out_v.write('\\t'.join([str(x) for x in embeddings]) + \"\\n\")\n",
        "    except KeyError:\n",
        "        continue  # Skip if word number doesn't exist\n",
        "\n",
        "out_v.close()\n",
        "out_m.close()\n",
        "\n",
        "# try:\n",
        "#   from google.colab import files\n",
        "# except ImportError:\n",
        "#   pass\n",
        "# else:\n",
        "#   files.download('vecs.tsv')\n",
        "#   files.download('meta.tsv')"
      ],
      "metadata": {
        "colab": {
          "base_uri": "https://localhost:8080/"
        },
        "id": "UqhE7EOz-WZv",
        "outputId": "22c2d13a-19ce-48a9-e35b-a85fce533d3b"
      },
      "execution_count": 37,
      "outputs": [
        {
          "output_type": "stream",
          "name": "stdout",
          "text": [
            "(10000, 16)\n"
          ]
        }
      ]
    },
    {
      "cell_type": "code",
      "source": [
        "#trial sentences\n",
        "sentence = [\"Wow you are so beautiful i love you\", \"The trees are green like the grass\", \"I hate my life and all the horrible people in it\"]\n",
        "\n",
        "#convert to same format as training data\n",
        "sequences = tokenizer.texts_to_sequences(sentence)\n",
        "padded = pad_sequences(sequences, maxlen=max_length, padding=padding_type, truncating=trunc_type)"
      ],
      "metadata": {
        "id": "l71oF--z-ahn"
      },
      "execution_count": 46,
      "outputs": []
    },
    {
      "cell_type": "code",
      "source": [
        "# Get predictions\n",
        "print(\"=== MODEL PREDICTIONS ===\")\n",
        "predictions = model.predict(padded)\n",
        "predicted_classes = np.argmax(predictions, axis=1)\n",
        "print(f\"\\nRaw prediction probabilities:\\n{predictions}\")\n",
        "\n",
        "# Explain the results\n",
        "sentiment_labels = ['Negative', 'Neutral', 'Positive']\n",
        "\n",
        "for i, sent in enumerate(sentence):\n",
        "    print(f\"\\nSentence {i+1}: '{sent}'\")\n",
        "    print(f\"Probabilities:\")\n",
        "    print(f\"  Negative (0): {predictions[i][0]:.1%}\")\n",
        "    print(f\"  Neutral (1):  {predictions[i][1]:.1%}\")\n",
        "    print(f\"  Positive (2): {predictions[i][2]:.1%}\")\n",
        "    print(f\"Predicted sentiment: {sentiment_labels[predicted_classes[i]]} (Class {predicted_classes[i]})\")\n"
      ],
      "metadata": {
        "colab": {
          "base_uri": "https://localhost:8080/"
        },
        "id": "Mza8Z6dSEKGI",
        "outputId": "ca48a378-8a23-4154-ddd0-73ad65c656d4"
      },
      "execution_count": 47,
      "outputs": [
        {
          "output_type": "stream",
          "name": "stdout",
          "text": [
            "=== MODEL PREDICTIONS ===\n",
            "\u001b[1m1/1\u001b[0m \u001b[32m━━━━━━━━━━━━━━━━━━━━\u001b[0m\u001b[37m\u001b[0m \u001b[1m0s\u001b[0m 29ms/step\n",
            "\n",
            "Raw prediction probabilities:\n",
            "[[1.8773457e-03 5.6732907e-03 9.9244940e-01]\n",
            " [3.6336374e-01 5.4384756e-01 9.2788756e-02]\n",
            " [9.9378514e-01 5.5697486e-03 6.4507022e-04]]\n",
            "\n",
            "Sentence 1: 'Wow you are so beautiful i love you'\n",
            "Probabilities:\n",
            "  Negative (0): 0.2%\n",
            "  Neutral (1):  0.6%\n",
            "  Positive (2): 99.2%\n",
            "Predicted sentiment: Positive (Class 2)\n",
            "\n",
            "Sentence 2: 'The trees are green like the grass'\n",
            "Probabilities:\n",
            "  Negative (0): 36.3%\n",
            "  Neutral (1):  54.4%\n",
            "  Positive (2): 9.3%\n",
            "Predicted sentiment: Neutral (Class 1)\n",
            "\n",
            "Sentence 3: 'I hate my life and all the horrible people in it'\n",
            "Probabilities:\n",
            "  Negative (0): 99.4%\n",
            "  Neutral (1):  0.6%\n",
            "  Positive (2): 0.1%\n",
            "Predicted sentiment: Negative (Class 0)\n"
          ]
        }
      ]
    },
    {
      "cell_type": "markdown",
      "source": [
        "OVERFITTING FIXES IMPLEMENTED:\n",
        "1. DROPOUT LAYERS\n",
        "\n",
        "- Randomly \"turns off\" 30%/50% of neurons during training\n",
        "- Forces the model to not rely on specific neurons\n",
        "- Only active during training, not during prediction\n",
        "- Result: Model becomes more robust and generalizes better\n",
        "\n",
        "2. EARLY STOPPING\n",
        "\n",
        "- Monitors validation accuracy every epoch\n",
        "- If no improvement for 5 consecutive epochs → stops training\n",
        "- Automatically restores the best weights found\n",
        "- Result: Prevents training too long and overfitting"
      ],
      "metadata": {
        "id": "clESZRr5Q-ab"
      }
    },
    {
      "cell_type": "code",
      "source": [],
      "metadata": {
        "id": "Yk4TaoQ0FMb3"
      },
      "execution_count": 16,
      "outputs": []
    }
  ]
}